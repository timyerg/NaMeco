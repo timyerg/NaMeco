{
 "cells": [
  {
   "cell_type": "markdown",
   "id": "fdcaeb97-3054-40a3-baa5-e84b89f6353e",
   "metadata": {},
   "source": [
    "# NaMeco conda environment"
   ]
  },
  {
   "cell_type": "code",
   "execution_count": null,
   "id": "0bf8a378-2728-474e-9544-7186d328fe06",
   "metadata": {},
   "outputs": [],
   "source": [
    "conda env create --file NaMeco.yaml"
   ]
  },
  {
   "cell_type": "code",
   "execution_count": null,
   "id": "db8b48c5-52e3-4a33-b404-213dcfeca570",
   "metadata": {},
   "outputs": [],
   "source": [
    "!pip install nameco --upgrade"
   ]
  },
  {
   "cell_type": "code",
   "execution_count": null,
   "id": "3e36cf97-c885-4f92-9188-b9681fa353a9",
   "metadata": {
    "tags": []
   },
   "outputs": [],
   "source": [
    "permissions = !chmod +rwx ./* Old/*"
   ]
  },
  {
   "cell_type": "markdown",
   "id": "c0f1b9f3-c9a4-42bf-8703-7cf3577d841e",
   "metadata": {},
   "source": [
    "# Standards"
   ]
  },
  {
   "cell_type": "code",
   "execution_count": null,
   "id": "60355a55-551e-4a79-b6b5-09a1ff21cee1",
   "metadata": {},
   "outputs": [],
   "source": [
    "inp = '/home/ty/Big_data/NaMeco_Minion/Standards'\n",
    "out = f'{inp}/../Standards_out'\n",
    "dbs = ('GTDB', 'NCBI')\n",
    "\n",
    "for db in dbs:\n",
    "    \n",
    "    !./run_nameco.py --inp_dir $inp \\\n",
    "        --out_dir $out \\\n",
    "        --database $db \\\n",
    "        --threads 20 \n",
    "        "
   ]
  },
  {
   "cell_type": "markdown",
   "id": "0fbd8620-7ad0-4ab0-bdbb-9a60ca1810d8",
   "metadata": {},
   "source": [
    "# 16S rRNA from Standards (not sequenced!)"
   ]
  },
  {
   "cell_type": "code",
   "execution_count": null,
   "id": "140048a4-8e15-44a4-b35b-489ffc78e7cf",
   "metadata": {},
   "outputs": [],
   "source": [
    "inp = '/home/ty/Big_data/NaMeco_Minion/Standards'\n",
    "out = 'Standards_out'\n",
    "dbs = ('NCBI', 'GTDB')\n",
    "\n",
    "for db in dbs:\n",
    "    \n",
    "    !./run_nameco.py --inp_dir $inp \\\n",
    "        --out_dir $out \\\n",
    "        --database $db \\\n",
    "        --threads 20\n"
   ]
  },
  {
   "cell_type": "markdown",
   "id": "9e3ae88f-c1a9-40d2-b79b-f3a9c2ff8181",
   "metadata": {},
   "source": [
    "# Hosts"
   ]
  },
  {
   "cell_type": "code",
   "execution_count": null,
   "id": "5a0c2354-c951-440c-a3c6-964500e2991d",
   "metadata": {},
   "outputs": [],
   "source": [
    "BIG = '/home/ty/Big_data/NaMeco_Minion/'\n",
    "inp = f'{BIG}/Hosts'\n",
    "out = f'{BIG}/Hosts_out'\n",
    "dbs = ('NCBI', 'GTDB')\n",
    "\n",
    "for db in dbs:\n",
    "    \n",
    "    !./run_nameco.py --inp_dir $inp \\\n",
    "        --out_dir $out \\\n",
    "        --phred 8 \\\n",
    "        --database $db \\\n",
    "        --threads 20"
   ]
  }
 ],
 "metadata": {
  "kernelspec": {
   "display_name": "Python [conda env:NaMeco]",
   "language": "python",
   "name": "conda-env-NaMeco-py"
  },
  "language_info": {
   "codemirror_mode": {
    "name": "ipython",
    "version": 3
   },
   "file_extension": ".py",
   "mimetype": "text/x-python",
   "name": "python",
   "nbconvert_exporter": "python",
   "pygments_lexer": "ipython3",
   "version": "3.10.8"
  }
 },
 "nbformat": 4,
 "nbformat_minor": 5
}
